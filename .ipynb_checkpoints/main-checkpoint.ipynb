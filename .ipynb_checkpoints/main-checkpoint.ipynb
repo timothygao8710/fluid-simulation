{
 "cells": [
  {
   "cell_type": "code",
   "execution_count": 742,
   "id": "c4cb9d70-06d6-4a27-9d41-943d5bf4d91d",
   "metadata": {},
   "outputs": [],
   "source": [
    "import numpy as np\n",
    "import math\n",
    "import matplotlib.pyplot as plt\n",
    "import matplotlib.animation as animation\n",
    "from matplotlib.animation import FuncAnimation\n",
    "\n",
    "# Jos Stam Paper - http://graphics.cs.cmu.edu/nsp/course/15-464/Fall09/papers/StamFluidforGames.pdf\n",
    "# Gonkee Video - https://www.youtube.com/watch?v=qsYE1wMEMPA\n",
    "# Numba - https://www.youtube.com/watch?v=qsYE1wMEMPA\n",
    "# Coding Train - https://www.youtube.com/watch?v=alhpH6ECFvQ&t=1165s"
   ]
  },
  {
   "cell_type": "code",
   "execution_count": 743,
   "id": "2cb8113e-e6f4-487f-aa60-949ebab63448",
   "metadata": {},
   "outputs": [],
   "source": [
    "N_time_steps = 20\n",
    "# current_time = 0\n",
    "\n",
    "N = 50\n",
    "# 0, N+1 are reserved for boundary cells\n",
    "sz = N + 2\n",
    "dt = 0.1\n",
    "diff = 1\n",
    "visc = 0.5\n",
    "\n",
    "# densities\n",
    "dens = np.zeros((sz, sz))\n",
    "dens0 = np.zeros((sz, sz))\n",
    "\n",
    "# velocities (u is x, v is y), at center of each grid cell\n",
    "u0 = np.zeros((sz, sz))\n",
    "u = np.zeros((sz, sz))\n",
    "\n",
    "v0 = np.zeros((sz, sz))\n",
    "v = np.zeros((sz, sz))"
   ]
  },
  {
   "cell_type": "code",
   "execution_count": 744,
   "id": "dca6799b-f2ff-4285-9009-0d2928ddd9f8",
   "metadata": {},
   "outputs": [],
   "source": [
    "# full - reflect\n",
    "# lr - copy top and bottom, reflect others\n",
    "# ud - copy left and right, reflect others\n",
    "\n",
    "def set_bnd(b, X):\n",
    "    for i in range(1, N+1):\n",
    "        X[0][i] = -X[1][i] if b == \"lr\" else X[1][i]\n",
    "        X[N+1][i] = -X[N][i] if b == \"lr\" else X[N][i]\n",
    "        \n",
    "        X[i][0] = -X[i][1] if b == \"ud\" else X[i][1]\n",
    "        X[i][N+1] = -X[i][N] if b == \"ud\" else X[i][N]\n",
    "    \n",
    "    #do corners - average of 2 around\n",
    "    X[0][0] = (X[1][0] + X[0][1]) * 0.5\n",
    "    X[0][N+1] = (X[1][N+1] + X[0][N]) * 0.5\n",
    "    X[N+1][0] = (X[N][0] + X[N+1][1]) * 0.5\n",
    "    X[N+1][N+1] = (X[N][N+1] + X[N+1][N]) * 0.5\n",
    "    \n",
    "def addSource(i, j, X, x):\n",
    "    X[i][j] += dt * x"
   ]
  },
  {
   "cell_type": "code",
   "execution_count": 745,
   "id": "332455b9-eee5-45ec-a3da-e6a5b8c336ae",
   "metadata": {},
   "outputs": [],
   "source": [
    "# Diffuse backwards in time: x0[IX(i,j)] = x[IX(i,j)] - a*(x[IX(i-1,j)]+x[IX(i+1,j)]+x[IX(i,j-1)]+x[IX(i,j+1)] -4*x[IX(i,j)]);\n",
    "# ==> ( x0[IX(i,j)] + a*(x[IX(i-1,j)]+x[IX(i+1,j)]+x[IX(i,j-1)]+x[IX(i,j+1)]) ) / ( 1 + 4*a )\n",
    "\n",
    "def diffuse(X, X0, coef, b = \"full\", n_iter = 20):\n",
    "        # Gauss-Seidel: observation - very few non-zero values in matrix & strictly diagonally dominant\n",
    "        # start with incorrect values, solve by iteratively calculating assuming incorrect values are correct, then setting result as the new incorrect value\n",
    "        a = dt * sz * sz * coef\n",
    "        \n",
    "        for k in range(n_iter):\n",
    "            for i in range(1, N+1):\n",
    "                for j in range(1, N+1):\n",
    "                    X[i][j] = (X0[i][j] + a*(X[i-1][j] + X[i][j-1] + X[i][j+1] + X[i+1][j]))/(1+4*a)\n",
    "                    \n",
    "            # what to do when collision with boundary\n",
    "            set_bnd(b, X)"
   ]
  },
  {
   "cell_type": "code",
   "execution_count": 746,
   "id": "85d92199-3add-40fc-9aa4-c94ed8b6081f",
   "metadata": {},
   "outputs": [],
   "source": [
    "# linear interpolation, loc x in length 1, a to b\n",
    "def lerp(a, b, x):\n",
    "    slope = b - a\n",
    "    return a + slope * x\n",
    "    \n",
    "# advect backwards (start from center and go back), using next velocity to linear interpolate, to find density contributions\n",
    "# Note: may need coefficient for multiplier ==> mult changes with dt?\n",
    "def advect(X, X0, b = \"full\", mult = 1):\n",
    "    for i in range(1, N+1):\n",
    "        for j in range(1, N+1):\n",
    "            \n",
    "            y = dt * v[i][j] + i\n",
    "            x = dt * u[i][j] + j\n",
    "            \n",
    "            if (x < 0.5):\n",
    "                x = 0.5\n",
    "                \n",
    "            if (x > N + 0.5):\n",
    "                x= N + 0.5;\n",
    "                \n",
    "            if (y < 0.5):\n",
    "                y = 0.5\n",
    "                \n",
    "            if (y > N + 0.5):\n",
    "                y= N + 0.5;\n",
    "            \n",
    "            frac_y = y - math.floor(y)\n",
    "            frac_x = x - math.floor(x)\n",
    "            \n",
    "            y = math.floor(y)\n",
    "            x = math.floor(x)\n",
    "                \n",
    "            #density (or arr X) at four corners\n",
    "            [ul, dl, ur, dr] = [X0[x][y], X0[x][y+1], X0[x+1][y], X0[x+1][y+1]]\n",
    "            \n",
    "            #first interpolate looking through the y dimension\n",
    "            y0 = lerp(ul, dl, frac_y)\n",
    "            y1 = lerp(ur, dr, frac_y)\n",
    "            \n",
    "            #then interpolate looking through x dimension\n",
    "            res = lerp(y0, y1, frac_x)\n",
    "\n",
    "            X[i][j] += mult * res\n",
    "\n",
    "    set_bnd(b, X)"
   ]
  },
  {
   "cell_type": "code",
   "execution_count": 747,
   "id": "608517b2-fd96-4257-847d-ba4f59f18237",
   "metadata": {},
   "outputs": [],
   "source": [
    "'''\n",
    "To calculate the curl-free field of a given vector field using Poisson equations, you can use the following steps:\n",
    "\n",
    "Define your vector field as a function of the coordinates of the grid points. Let's call this vector field V(x,y,z), where x,y,z are the coordinates of a given grid point.\n",
    "\n",
    "Calculate the curl of the vector field using the curl operator: curl(V) = (dVz/dy - dVy/dz, dVx/dz - dVz/dx, dVy/dx - dVx/dy). This will give you a new vector field that represents the direction and magnitude of the curl of the original vector field at each grid point.\n",
    "\n",
    "Use the Poisson equation to find a scalar potential function φ(x,y,z) that satisfies the equation ∇²φ = -div(curl(V)), where ∇² is the Laplace operator and div is the divergence operator. This scalar potential function will represent the curl-free component of the original vector field.\n",
    "\n",
    "Calculate the gradient of the scalar potential function using the gradient operator: grad(φ) = (∂φ/∂x, ∂φ/∂y, ∂φ/∂z). This will give you a new vector field that represents the direction and magnitude of the curl-free component of the original vector field at each grid point.\n",
    "\n",
    "Subtract the curl-free vector field from the original vector field to get the remaining curl component: V_curl = V - grad(φ).\n",
    "\n",
    "Following these steps should allow you to calculate the curl-free component of your vector field using Poisson equations. Note that the calculation of the scalar potential function φ can be done using various numerical methods such as finite difference, finite element, or spectral methods, depending on the specifics of your problem.\n",
    "'''\n",
    "\n",
    "# By helmholtz's theorem, every velocity field is the addition of a curl-free and divergence-free vector field. In this function, we compute the divergence-free field by computing curl-free and subtracting it from original\n",
    "\n",
    "def project(u, v, p, div, n_iter=20):\n",
    "    h = 1.0 / N\n",
    "    \n",
    "    for i in range(1, N+1):\n",
    "        for j in range(1, N+1):\n",
    "            div[i][j] = -0.5 * h * (u[i+1][j] - u[i-1][j] + v[i][j+1] - v[i][j-1])\n",
    "            p[i][j] = 0\n",
    "    \n",
    "    set_bnd(\"full\", div)\n",
    "    set_bnd(\"full\", p)\n",
    "    \n",
    "    for k in range(n_iter):\n",
    "        for i in range(1, N+1):\n",
    "            for j in range(1, N+1):\n",
    "                p[i][j] = (div[i][j] + p[i-1][j] + p[i+1][j] + p[i][j-1] + p[i][j+1]) / 4\n",
    "        set_bnd(\"full\", p)\n",
    "    \n",
    "    for i in range(1, N+1):\n",
    "        for j in range(1, N+1):\n",
    "            u[i][j] -= 0.5 * (p[i+1][j] - p[i-1][j]) / h\n",
    "            v[i][j] -= 0.5 * (p[i][j+1] - p[i][j-1]) / h\n",
    "            \n",
    "    set_bnd(\"lr\", u)\n",
    "    set_bnd(\"ud\", v)"
   ]
  },
  {
   "cell_type": "code",
   "execution_count": 748,
   "id": "047fe169-f121-4b3b-aa16-d924f259fb99",
   "metadata": {},
   "outputs": [],
   "source": [
    "import random\n",
    "\n",
    "theta = random.random() * math.pi * 2\n",
    "def rotate(speed = 2 * math.pi / 15, prob = 0.15):\n",
    "    global theta\n",
    "    # expected to change direction in 1/prob seconds\n",
    "    prob *= dt\n",
    "\n",
    "    if random.random() < prob:\n",
    "        speed *= -1\n",
    "        print(\"Switched\")\n",
    "        \n",
    "    theta += speed * dt\n",
    "    \n",
    "    \n",
    "def vel_step(i_u = N//2, i_v = N//2, j_u = N//2, j_v = N//2, radius = 4):\n",
    "    rotate()\n",
    "    radius *= sz * sz\n",
    "#     addSource (i_u, j_u, u0, math.cos(theta) * radius)\n",
    "#     addSource (i_v, j_v, v0, math.sin(theta) * radius)\n",
    "#     u0[i_u][j_u] = math.cos(theta) * radius\n",
    "#     v0[i_v][j_v] = math.sin(theta) * radius\n",
    "\n",
    "#     print(math.cos(theta) * radius)\n",
    "#     print(math.cos(theta))\n",
    "#     print(math.sin(theta))\n",
    "#     print(radius)\n",
    "#     print(sz * sz * 5)\n",
    "    \n",
    "#     print(dt * 500 * N)\n",
    "#     print(u0[i_u][j_u])\n",
    "#     print(np.max(u0))\n",
    "    \n",
    "    diffuse (u0, u, visc, b=\"lr\")\n",
    "    diffuse (v0, v, visc, b=\"ud\")\n",
    "    \n",
    "    # project first because advect works better with a divergence-free v-field\n",
    "    #BELOW MAY BE WRONG -- Swapped 0 and cur?\n",
    "    project(u0, v0, u, v)\n",
    "        \n",
    "    advect (u, u0, b=\"lr\")\n",
    "    advect (v, v0, b=\"ud\")\n",
    "    \n",
    "    project(u, v, u0, v0)\n",
    "    \n",
    "    \n",
    "def dens_step(x = N//2, y = N//2, x_val = 1):\n",
    "    # below might be wrong?\n",
    "    addSource(x, y, dens0, sz * sz * x_val)\n",
    "    diffuse (dens, dens0, diff)\n",
    "    advect (dens, dens0)\n",
    "\n",
    "    \n",
    "def fade():\n",
    "    for i in range(sz):\n",
    "        for j in range(sz):\n",
    "            if dens[i][j] > 0:\n",
    "                dens[i][j] *= 0.95\n",
    "#                 dens[i][j] -= 0.01"
   ]
  },
  {
   "cell_type": "code",
   "execution_count": 749,
   "id": "0a7dc770-b9e7-4fe8-a321-2b9a8bd06e09",
   "metadata": {},
   "outputs": [],
   "source": [
    "animation_frames = []"
   ]
  },
  {
   "cell_type": "code",
   "execution_count": 753,
   "id": "8cd30ec3-b8f4-464c-9522-7fb8d82559c0",
   "metadata": {},
   "outputs": [
    {
     "name": "stderr",
     "output_type": "stream",
     "text": [
      " 20%|██        | 4/20 [00:01<00:06,  2.50it/s]"
     ]
    },
    {
     "name": "stdout",
     "output_type": "stream",
     "text": [
      "Switched\n"
     ]
    },
    {
     "name": "stderr",
     "output_type": "stream",
     "text": [
      "100%|██████████| 20/20 [00:07<00:00,  2.54it/s]"
     ]
    },
    {
     "name": "stdout",
     "output_type": "stream",
     "text": [
      "CPU times: user 7.78 s, sys: 33.7 ms, total: 7.81 s\n",
      "Wall time: 7.88 s\n"
     ]
    },
    {
     "name": "stderr",
     "output_type": "stream",
     "text": [
      "\n"
     ]
    }
   ],
   "source": [
    "%%time\n",
    "\n",
    "from tqdm import tqdm\n",
    "\n",
    "for i in tqdm(range(N_time_steps)):\n",
    "    dens = np.zeros((sz, sz))\n",
    "    u = np.zeros((sz, sz))\n",
    "    v = np.zeros((sz, sz))\n",
    "\n",
    "    vel_step()\n",
    "#     if i < 5:\n",
    "        \n",
    "#     plt.quiver(u, v, color='b', units='xy', scale = max(np.max(u), np.max(v)))\n",
    "#     plt.show()\n",
    "    dens_step()\n",
    "\n",
    "    animation_frames.append(dens)\n",
    "#     print(u)\n",
    "#     print(np.max(u))\n",
    "#     print(v)\n",
    "\n",
    "    dens0 = dens\n",
    "    v0 = v\n",
    "    u0 = u"
   ]
  },
  {
   "cell_type": "code",
   "execution_count": 754,
   "id": "5d757899-54b5-48c2-a331-9c8e23c7d945",
   "metadata": {},
   "outputs": [
    {
     "data": {
      "image/png": "[encoded data removed]",
      "text/plain": [
       "<Figure size 432x288 with 1 Axes>"
      ]
     },
     "metadata": {
      "needs_background": "dark"
     },
     "output_type": "display_data"
    }
   ],
   "source": [
    "%matplotlib inline\n",
    "import time\n",
    "from IPython.display import clear_output\n",
    "\n",
    "for i in range(N_time_steps):\n",
    "    # Not by\n",
    "    clear_output(wait=True)\n",
    "#     plt.clf()\n",
    "    \n",
    "    fig, ax = plt.subplots()\n",
    "    ax.imshow(animation_frames[i], cmap=\"ocean\")\n",
    "    plt.show()\n",
    "    time.sleep(dt)\n",
    "\n",
    "# plt.imshow(animation_frames[99])\n",
    "plt.show()\n",
    "# 'Accent', 'Accent_r', 'Blues', 'Blues_r', 'BrBG', 'BrBG_r', 'BuGn', 'BuGn_r', 'BuPu', 'BuPu_r', 'CMRmap', 'CMRmap_r', 'Dark2', 'Dark2_r', 'GnBu', 'GnBu_r', 'Greens', 'Greens_r', 'Greys', 'Greys_r', 'OrRd', 'OrRd_r', 'Oranges', 'Oranges_r', 'PRGn', 'PRGn_r', 'Paired', 'Paired_r', 'Pastel1', 'Pastel1_r', 'Pastel2', 'Pastel2_r', 'PiYG', 'PiYG_r', 'PuBu', 'PuBuGn', 'PuBuGn_r', 'PuBu_r', 'PuOr', 'PuOr_r', 'PuRd', 'PuRd_r', 'Purples', 'Purples_r', 'RdBu', 'RdBu_r', 'RdGy', 'RdGy_r', 'RdPu', 'RdPu_r', 'RdYlBu', 'RdYlBu_r', 'RdYlGn', 'RdYlGn_r', 'Reds', 'Reds_r', 'Set1', 'Set1_r', 'Set2', 'Set2_r', 'Set3', 'Set3_r', 'Spectral', 'Spectral_r', 'Wistia', 'Wistia_r', 'YlGn', 'YlGnBu', 'YlGnBu_r', 'YlGn_r', 'YlOrBr', 'YlOrBr_r', 'YlOrRd', 'YlOrRd_r', 'afmhot', 'afmhot_r', 'autumn', 'autumn_r', 'binary', 'binary_r', 'bone', 'bone_r', 'brg', 'brg_r', 'bwr', 'bwr_r', 'cividis', 'cividis_r', 'cool', 'cool_r', 'coolwarm', 'coolwarm_r', 'copper', 'copper_r', 'cubehelix', 'cubehelix_r', 'flag', 'flag_r', 'gist_earth', 'gist_earth_r', 'gist_gray', 'gist_gray_r', 'gist_heat', 'gist_heat_r', 'gist_ncar', 'gist_ncar_r', 'gist_rainbow', 'gist_rainbow_r', 'gist_stern', 'gist_stern_r', 'gist_yarg', 'gist_yarg_r', 'gnuplot', 'gnuplot2', 'gnuplot2_r', 'gnuplot_r', 'gray', 'gray_r', 'hot', 'hot_r', 'hsv', 'hsv_r', 'inferno', 'inferno_r', 'jet', 'jet_r', 'magma', 'magma_r', 'nipy_spectral', 'nipy_spectral_r', 'ocean', 'ocean_r', 'pink', 'pink_r', 'plasma', 'plasma_r', 'prism', 'prism_r', 'rainbow', 'rainbow_r', 'seismic', 'seismic_r', 'spring', 'spring_r', 'summer', 'summer_r', 'tab10', 'tab10_r', 'tab20', 'tab20_r', 'tab20b', 'tab20b_r', 'tab20c', 'tab20c_r', 'terrain', 'terrain_r', 'turbo', 'turbo_r', 'twilight', 'twilight_r', 'twilight_shifted', 'twilight_shifted_r', 'viridis', 'viridis_r', 'winter', 'winter_r'"
   ]
  },
  {
   "cell_type": "code",
   "execution_count": 650,
   "id": "4cc811bf-4d50-4890-8ae0-1b55946883ec",
   "metadata": {},
   "outputs": [
    {
     "data": {
      "image/png": "[encoded data removed]",
      "text/plain": [
       "<Figure size 432x288 with 1 Axes>"
      ]
     },
     "metadata": {
      "needs_background": "dark"
     },
     "output_type": "display_data"
    }
   ],
   "source": [
    "# execute this cell\n",
    "%matplotlib inline\n",
    "# %matplotlib notebook\n",
    "\n",
    "fig, ax = plt.subplots()\n",
    "im = plt.imshow(animation_frames[0], animated=True, cmap='ocean')\n",
    "\n",
    "def updatefig(*args):\n",
    "    im.set_array(animation_frames[args[0]])\n",
    "    return im,\n",
    "\n",
    "# ani = animation.FuncAnimation(fig, update, interval=50,\n",
    "#                               save_count=50)\n",
    "# plt.show()\n",
    "\n",
    "ani = FuncAnimation(fig, updatefig, range(N_time_steps), interval = dt * 1000 , blit=True, repeat=True,\n",
    "                    repeat_delay=1000)\n",
    "\n",
    "ani.save('asdf.mp4', extra_args=['-vcodec', 'libx264', '-pix_fmt', 'yuv420p'])\n",
    "\n",
    "plt.show()\n",
    "\n",
    "# for i in range(N_time_steps):\n",
    "#     plt.clf()\n",
    "#     fig, ax = plt.subplots()\n",
    "#     ax.imshow(animation_frames[99], cmap=\"ocean\")\n",
    "#     plt.plot()\n",
    "#     plot.show()\n",
    "    "
   ]
  }
 ],
 "metadata": {
  "kernelspec": {
   "display_name": "Python 3",
   "language": "python",
   "name": "python3"
  },
  "language_info": {
   "codemirror_mode": {
    "name": "ipython",
    "version": 3
   },
   "file_extension": ".py",
   "mimetype": "text/x-python",
   "name": "python",
   "nbconvert_exporter": "python",
   "pygments_lexer": "ipython3",
   "version": "3.8.8"
  }
 },
 "nbformat": 4,
 "nbformat_minor": 5
}
