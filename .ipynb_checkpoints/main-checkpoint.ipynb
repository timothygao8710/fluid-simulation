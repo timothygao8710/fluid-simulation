{
 "cells": [
  {
   "cell_type": "code",
   "execution_count": 3,
   "id": "c4cb9d70-06d6-4a27-9d41-943d5bf4d91d",
   "metadata": {},
   "outputs": [],
   "source": [
    "import numpy as np\n",
    "import math\n",
    "import matplotlib.pyplot as plt\n",
    "import matplotlib.animation as animation\n",
    "from numba import njit\n",
    "from matplotlib.animation import FuncAnimation\n",
    "\n",
    "# Jos Stam Paper - http://graphics.cs.cmu.edu/nsp/course/15-464/Fall09/papers/StamFluidforGames.pdf\n",
    "# Gonkee Video - https://www.youtube.com/watch?v=qsYE1wMEMPA\n",
    "# Numba - https://www.youtube.com/watch?v=qsYE1wMEMPA\n",
    "# Coding Train - https://www.youtube.com/watch?v=alhpH6ECFvQ&t=1165s"
   ]
  },
  {
   "cell_type": "code",
   "execution_count": 4,
   "id": "dca6799b-f2ff-4285-9009-0d2928ddd9f8",
   "metadata": {},
   "outputs": [
    {
     "data": {
      "text/plain": [
       "\"\\nTo calculate the curl-free field of a given vector field using Poisson equations, you can use the following steps:\\n\\nDefine your vector field as a function of the coordinates of the grid points. Let's call this vector field V(x,y,z), where x,y,z are the coordinates of a given grid point.\\n\\nCalculate the curl of the vector field using the curl operator: curl(V) = (dVz/dy - dVy/dz, dVx/dz - dVz/dx, dVy/dx - dVx/dy). This will give you a new vector field that represents the direction and magnitude of the curl of the original vector field at each grid point.\\n\\nUse the Poisson equation to find a scalar potential function φ(x,y,z) that satisfies the equation ∇²φ = -div(curl(V)), where ∇² is the Laplace operator and div is the divergence operator. This scalar potential function will represent the curl-free component of the original vector field.\\n\\nCalculate the gradient of the scalar potential function using the gradient operator: grad(φ) = (∂φ/∂x, ∂φ/∂y, ∂φ/∂z). This will give you a new vector field that represents the direction and magnitude of the curl-free component of the original vector field at each grid point.\\n\\nSubtract the curl-free vector field from the original vector field to get the remaining curl component: V_curl = V - grad(φ).\\n\\nFollowing these steps should allow you to calculate the curl-free component of your vector field using Poisson equations. Note that the calculation of the scalar potential function φ can be done using various numerical methods such as finite difference, finite element, or spectral methods, depending on the specifics of your problem.\\n\""
      ]
     },
     "execution_count": 4,
     "metadata": {},
     "output_type": "execute_result"
    }
   ],
   "source": [
    "# full - reflect\n",
    "# lr - copy top and bottom, reflect others\n",
    "# ud - copy left and right, reflect others\n",
    "\n",
    "@njit(fastmath=True)\n",
    "def set_bnd(b, X):\n",
    "    for i in range(1, N+1):\n",
    "        X[0][i] = -X[1][i] if b == \"ud\" else X[1][i]\n",
    "        X[N+1][i] = -X[N][i] if b == \"ud\" else X[N][i]\n",
    "        \n",
    "        X[i][0] = -X[i][1] if b == \"lr\" else X[i][1]\n",
    "        X[i][N+1] = -X[i][N] if b == \"lr\" else X[i][N]\n",
    "    \n",
    "    #do corners - average of 2 around\n",
    "    X[0][0] = (X[1][0] + X[0][1]) * 0.5\n",
    "    X[0][N+1] = (X[1][N+1] + X[0][N]) * 0.5\n",
    "    X[N+1][0] = (X[N][0] + X[N+1][1]) * 0.5\n",
    "    X[N+1][N+1] = (X[N][N+1] + X[N+1][N]) * 0.5\n",
    "    \n",
    "@njit(fastmath=True)\n",
    "def addSource(i, j, X, x):\n",
    "    X[i][j] += dt * x\n",
    "    \n",
    "# Diffuse backwards in time: x0[IX(i,j)] = x[IX(i,j)] - a*(x[IX(i-1,j)]+x[IX(i+1,j)]+x[IX(i,j-1)]+x[IX(i,j+1)] -4*x[IX(i,j)]);\n",
    "# ==> ( x0[IX(i,j)] + a*(x[IX(i-1,j)]+x[IX(i+1,j)]+x[IX(i,j-1)]+x[IX(i,j+1)]) ) / ( 1 + 4*a )\n",
    "\n",
    "@njit(fastmath=True)\n",
    "def diffuse(X, X0, coef, b = \"full\", n_iter = 20):\n",
    "        # Gauss-Seidel: observation - very few non-zero values in matrix & strictly diagonally dominant\n",
    "        # start with incorrect values, solve by iteratively calculating assuming incorrect values are correct, then setting result as the new incorrect value\n",
    "        a = dt * coef * N * N\n",
    "        \n",
    "        for k in range(n_iter):\n",
    "            for i in range(1, N+1):\n",
    "                for j in range(1, N+1):\n",
    "                    X[i][j] = (X0[i][j] + a*(X[i-1][j] + X[i][j-1] + X[i][j+1] + X[i+1][j]))/(1+4*a)\n",
    "                    \n",
    "            # what to do when collision with boundary\n",
    "            set_bnd(b, X)\n",
    "\n",
    "            \n",
    "# linear interpolation, loc x in length 1, a to b\n",
    "@njit(fastmath=True)\n",
    "def lerp(a, b, x):\n",
    "    slope = b - a\n",
    "    return a + slope * x\n",
    "    \n",
    "# advect backwards (start from center and go back), using next velocity to linear interpolate, to find density contributions\n",
    "# Note: may need coefficient for multiplier ==> mult changes with dt?\n",
    "@njit(fastmath=True)\n",
    "def advect(X, X0, u, v, b = \"full\"):\n",
    "    for i in range(1, N+1):\n",
    "        for j in range(1, N+1):\n",
    "#             print(\"BEFORE: \", X[i][j])\n",
    "            y = i - dt * N * v[i][j]\n",
    "            x = j - dt * N * u[i][j]\n",
    "            \n",
    "#             print(i, j, x, y)\n",
    "            \n",
    "            if (x < 0.5):\n",
    "                x = 0.5\n",
    "                \n",
    "            if (x > N + 0.5):\n",
    "                x = N + 0.5;\n",
    "                \n",
    "            if (y < 0.5):\n",
    "                y = 0.5\n",
    "                \n",
    "            if (y > N + 0.5):\n",
    "                y = N + 0.5;\n",
    "            \n",
    "            frac_y = y - math.floor(y)\n",
    "            frac_x = x - math.floor(x)\n",
    "\n",
    "            y = math.floor(y)\n",
    "            x = math.floor(x)\n",
    "            \n",
    "            #first interpolate looking through the x dimension\n",
    "            x0 = lerp(X0[y][x], X0[y][x+1], frac_x)\n",
    "            x1 = lerp(X0[y+1][x], X0[y+1][x+1], frac_x)\n",
    "            \n",
    "            #then interpolate looking through x dimension\n",
    "            res = lerp(x0, x1, frac_y)\n",
    "            X[i][j] += res\n",
    "#             print(\"AFTER\", X[i][j])\n",
    "\n",
    "    set_bnd(b, X)\n",
    "    \n",
    "# By helmholtz's theorem, every velocity field is the addition of a curl-free and divergence-free vector field. In this function, we compute the divergence-free field by computing curl-free and subtracting it from original\n",
    "@njit(fastmath=True)\n",
    "def project(u, v, p, div, n_iter=20):\n",
    "    for i in range(1, N+1):\n",
    "        for j in range(1, N+1):\n",
    "            div[i][j] = -0.5 * (u[i][j+1] - u[i][j-1] + v[i+1][j] - v[i-1][j]) / N\n",
    "            p[i][j] = 0\n",
    "    \n",
    "    set_bnd(\"full\", div)\n",
    "    set_bnd(\"full\", p)\n",
    "    \n",
    "    for k in range(n_iter):\n",
    "        for i in range(1, N+1):\n",
    "            for j in range(1, N+1):\n",
    "                p[i][j] = (div[i][j] + p[i-1][j] + p[i+1][j] + p[i][j-1] + p[i][j+1]) / 4\n",
    "        set_bnd(\"full\", p)\n",
    "    \n",
    "    for i in range(1, N+1):\n",
    "        for j in range(1, N+1):\n",
    "            u[i][j] -= 0.5 * (p[i][j+1] - p[i][j-1]) * N\n",
    "            v[i][j] -= 0.5 * (p[i+1][j] - p[i-1][j]) * N\n",
    "            \n",
    "    set_bnd(\"lr\", u)\n",
    "    set_bnd(\"ud\", v)\n",
    "    \n",
    "'''\n",
    "To calculate the curl-free field of a given vector field using Poisson equations, you can use the following steps:\n",
    "\n",
    "Define your vector field as a function of the coordinates of the grid points. Let's call this vector field V(x,y,z), where x,y,z are the coordinates of a given grid point.\n",
    "\n",
    "Calculate the curl of the vector field using the curl operator: curl(V) = (dVz/dy - dVy/dz, dVx/dz - dVz/dx, dVy/dx - dVx/dy). This will give you a new vector field that represents the direction and magnitude of the curl of the original vector field at each grid point.\n",
    "\n",
    "Use the Poisson equation to find a scalar potential function φ(x,y,z) that satisfies the equation ∇²φ = -div(curl(V)), where ∇² is the Laplace operator and div is the divergence operator. This scalar potential function will represent the curl-free component of the original vector field.\n",
    "\n",
    "Calculate the gradient of the scalar potential function using the gradient operator: grad(φ) = (∂φ/∂x, ∂φ/∂y, ∂φ/∂z). This will give you a new vector field that represents the direction and magnitude of the curl-free component of the original vector field at each grid point.\n",
    "\n",
    "Subtract the curl-free vector field from the original vector field to get the remaining curl component: V_curl = V - grad(φ).\n",
    "\n",
    "Following these steps should allow you to calculate the curl-free component of your vector field using Poisson equations. Note that the calculation of the scalar potential function φ can be done using various numerical methods such as finite difference, finite element, or spectral methods, depending on the specifics of your problem.\n",
    "'''"
   ]
  },
  {
   "cell_type": "code",
   "execution_count": 5,
   "id": "047fe169-f121-4b3b-aa16-d924f259fb99",
   "metadata": {},
   "outputs": [],
   "source": [
    "import random\n",
    "\n",
    "theta = random.random() * math.pi * 2\n",
    "def rotate(speed = 2 * math.pi / 5, prob = 0.15):\n",
    "    global theta\n",
    "    # expected to change direction in 1/prob seconds\n",
    "    prob *= dt\n",
    "\n",
    "#     if random.random() < prob:\n",
    "#         speed *= -1\n",
    "#         print(\"Switched\")\n",
    "        \n",
    "    theta += speed * dt\n",
    "    \n",
    "    \n",
    "def vel_step(u, v, u0, v0):    \n",
    "    diffuse (u, u0, visc, b=\"lr\")\n",
    "    diffuse (v, v0, visc, b=\"ud\")\n",
    "#     diffuse (u0, u, visc, b=\"lr\")\n",
    "#     diffuse (v0, v, visc, b=\"ud\")\n",
    "    \n",
    "    # project first because advect works better with a divergence-free v-field\n",
    "    #BELOW MAY BE WRONG -- Swapped 0 and cur?\n",
    "    project(u0, v0, u, v)\n",
    "        \n",
    "    advect (u, u0, u0, v0, b=\"lr\")\n",
    "    advect (v, v0, u0, v0, b=\"ud\")\n",
    "    \n",
    "    project(u, v, u0, v0)\n",
    "#     addSource (i_u, j_u, u, radius)\n",
    "    \n",
    "    \n",
    "def dens_step(dens, dens0, u, v):    \n",
    "    # below might be wrong?\n",
    "    diffuse (dens, dens0, diff)\n",
    "    advect (dens, dens0, u, v)\n",
    "\n",
    "# def fade():\n",
    "#     global dens\n",
    "#     dens *= 0.98\n",
    "#     for i in range(sz):\n",
    "#         for j in range(sz):\n",
    "#             if dens[i][j] > 0:\n",
    "# #                 dens[i][j] *= 0.95\n",
    "#                 dens[i][j] -= 0.01"
   ]
  },
  {
   "cell_type": "code",
   "execution_count": 25,
   "id": "8cd30ec3-b8f4-464c-9522-7fb8d82559c0",
   "metadata": {},
   "outputs": [
    {
     "name": "stderr",
     "output_type": "stream",
     "text": [
      "100%|██████████| 16/16 [00:00<00:00, 5093.65it/s]"
     ]
    },
    {
     "name": "stdout",
     "output_type": "stream",
     "text": [
      "CPU times: user 4.33 ms, sys: 4.92 ms, total: 9.25 ms\n",
      "Wall time: 7.67 ms\n"
     ]
    },
    {
     "name": "stderr",
     "output_type": "stream",
     "text": [
      "\n"
     ]
    }
   ],
   "source": [
    "%%time\n",
    "\n",
    "from tqdm import tqdm\n",
    "\n",
    "animation_frames = []\n",
    "\n",
    "N_time_steps = 16\n",
    "# current_time = 0\n",
    "\n",
    "N = 4\n",
    "# 0, N+1 are reserved for boundary cells\n",
    "sz = N + 2\n",
    "dt = 0.1\n",
    "\n",
    "diff = 0.1\n",
    "visc = 0.1\n",
    "\n",
    "dens0 = np.zeros((sz, sz))\n",
    "# v is y direction velocity ~ j\n",
    "v0 = np.zeros((sz, sz))\n",
    "# u is x direction velocity ~ i\n",
    "u0 = np.zeros((sz, sz))\n",
    "\n",
    "for i in tqdm(range(N_time_steps)):\n",
    "    dens = np.zeros((sz, sz))\n",
    "    u = np.zeros((sz, sz))\n",
    "    v = np.zeros((sz, sz))\n",
    "\n",
    "    addSource (sz//2, sz//2, u0, 200)\n",
    "    vel_step(u, v, u0, v0)\n",
    "#     v0 = v\n",
    "#     u0 = u\n",
    "#     if i < 5:\n",
    "        \n",
    "#     plt.quiver(u, v, color='b', units='xy', scale = max(np.max(u), np.max(v)))\n",
    "#     plt.show()\n",
    "\n",
    "#     print(\"SATRTING DENSITY STESP\")\n",
    "    addSource(sz//2, sz//2, dens0, 1)\n",
    "    dens_step(dens, dens0, u, v)\n",
    "\n",
    "    animation_frames.append(dens)\n",
    "#     print(u)\n",
    "#     print(np.max(u))\n",
    "#     print(v)\n",
    "#     fade()\n",
    "    \n",
    "    dens0 = dens\n",
    "    v0 = v\n",
    "    u0 = u"
   ]
  },
  {
   "cell_type": "code",
   "execution_count": 26,
   "id": "5d757899-54b5-48c2-a331-9c8e23c7d945",
   "metadata": {},
   "outputs": [
    {
     "data": {
      "image/png": "[encoded data removed]",
      "text/plain": [
       "<Figure size 432x288 with 1 Axes>"
      ]
     },
     "metadata": {
      "needs_background": "light"
     },
     "output_type": "display_data"
    }
   ],
   "source": [
    "%matplotlib inline\n",
    "import time\n",
    "from IPython.display import clear_output\n",
    "\n",
    "for i in range(N_time_steps):\n",
    "    # Not by\n",
    "    clear_output(wait=True)\n",
    "#     plt.clf()\n",
    "    \n",
    "    fig, ax = plt.subplots()\n",
    "    ax.imshow(animation_frames[i])\n",
    "    plt.show()\n",
    "#     time.sleep(dt)\n",
    "\n",
    "# plt.imshow(animation_frames[99])\n",
    "plt.show()\n",
    "# 'Accent', 'Accent_r', 'Blues', 'Blues_r', 'BrBG', 'BrBG_r', 'BuGn', 'BuGn_r', 'BuPu', 'BuPu_r', 'CMRmap', 'CMRmap_r', 'Dark2', 'Dark2_r', 'GnBu', 'GnBu_r', 'Greens', 'Greens_r', 'Greys', 'Greys_r', 'OrRd', 'OrRd_r', 'Oranges', 'Oranges_r', 'PRGn', 'PRGn_r', 'Paired', 'Paired_r', 'Pastel1', 'Pastel1_r', 'Pastel2', 'Pastel2_r', 'PiYG', 'PiYG_r', 'PuBu', 'PuBuGn', 'PuBuGn_r', 'PuBu_r', 'PuOr', 'PuOr_r', 'PuRd', 'PuRd_r', 'Purples', 'Purples_r', 'RdBu', 'RdBu_r', 'RdGy', 'RdGy_r', 'RdPu', 'RdPu_r', 'RdYlBu', 'RdYlBu_r', 'RdYlGn', 'RdYlGn_r', 'Reds', 'Reds_r', 'Set1', 'Set1_r', 'Set2', 'Set2_r', 'Set3', 'Set3_r', 'Spectral', 'Spectral_r', 'Wistia', 'Wistia_r', 'YlGn', 'YlGnBu', 'YlGnBu_r', 'YlGn_r', 'YlOrBr', 'YlOrBr_r', 'YlOrRd', 'YlOrRd_r', 'afmhot', 'afmhot_r', 'autumn', 'autumn_r', 'binary', 'binary_r', 'bone', 'bone_r', 'brg', 'brg_r', 'bwr', 'bwr_r', 'cividis', 'cividis_r', 'cool', 'cool_r', 'coolwarm', 'coolwarm_r', 'copper', 'copper_r', 'cubehelix', 'cubehelix_r', 'flag', 'flag_r', 'gist_earth', 'gist_earth_r', 'gist_gray', 'gist_gray_r', 'gist_heat', 'gist_heat_r', 'gist_ncar', 'gist_ncar_r', 'gist_rainbow', 'gist_rainbow_r', 'gist_stern', 'gist_stern_r', 'gist_yarg', 'gist_yarg_r', 'gnuplot', 'gnuplot2', 'gnuplot2_r', 'gnuplot_r', 'gray', 'gray_r', 'hot', 'hot_r', 'hsv', 'hsv_r', 'inferno', 'inferno_r', 'jet', 'jet_r', 'magma', 'magma_r', 'nipy_spectral', 'nipy_spectral_r', 'ocean', 'ocean_r', 'pink', 'pink_r', 'plasma', 'plasma_r', 'prism', 'prism_r', 'rainbow', 'rainbow_r', 'seismic', 'seismic_r', 'spring', 'spring_r', 'summer', 'summer_r', 'tab10', 'tab10_r', 'tab20', 'tab20_r', 'tab20b', 'tab20b_r', 'tab20c', 'tab20c_r', 'terrain', 'terrain_r', 'turbo', 'turbo_r', 'twilight', 'twilight_r', 'twilight_shifted', 'twilight_shifted_r', 'viridis', 'viridis_r', 'winter', 'winter_r'"
   ]
  },
  {
   "cell_type": "code",
   "execution_count": 196,
   "id": "4cc811bf-4d50-4890-8ae0-1b55946883ec",
   "metadata": {},
   "outputs": [
    {
     "name": "stderr",
     "output_type": "stream",
     "text": [
      "<ipython-input-196-dd6a1bb52703>:16: UserWarning: frames=None which we can infer the length of, did not pass an explicit *save_count* and passed cache_frame_data=True.  To avoid a possibly unbounded cache, frame data caching has been disabled. To suppress this warning either pass `cache_frame_data=False` or `save_count=MAX_FRAMES`.\n",
      "  ani = FuncAnimation(fig, updatefig)\n"
     ]
    },
    {
     "ename": "IndexError",
     "evalue": "list index out of range",
     "output_type": "error",
     "traceback": [
      "\u001b[0;31m---------------------------------------------------------------------------\u001b[0m",
      "\u001b[0;31mIndexError\u001b[0m                                Traceback (most recent call last)",
      "\u001b[0;32m<ipython-input-196-dd6a1bb52703>\u001b[0m in \u001b[0;36m<module>\u001b[0;34m\u001b[0m\n\u001b[1;32m     16\u001b[0m \u001b[0mani\u001b[0m \u001b[0;34m=\u001b[0m \u001b[0mFuncAnimation\u001b[0m\u001b[0;34m(\u001b[0m\u001b[0mfig\u001b[0m\u001b[0;34m,\u001b[0m \u001b[0mupdatefig\u001b[0m\u001b[0;34m)\u001b[0m\u001b[0;34m\u001b[0m\u001b[0;34m\u001b[0m\u001b[0m\n\u001b[1;32m     17\u001b[0m \u001b[0;34m\u001b[0m\u001b[0m\n\u001b[0;32m---> 18\u001b[0;31m \u001b[0mani\u001b[0m\u001b[0;34m.\u001b[0m\u001b[0msave\u001b[0m\u001b[0;34m(\u001b[0m\u001b[0;34m'bob.mp4'\u001b[0m\u001b[0;34m,\u001b[0m \u001b[0mextra_args\u001b[0m\u001b[0;34m=\u001b[0m\u001b[0;34m[\u001b[0m\u001b[0;34m'-vcodec'\u001b[0m\u001b[0;34m,\u001b[0m \u001b[0;34m'libx264'\u001b[0m\u001b[0;34m,\u001b[0m \u001b[0;34m'-pix_fmt'\u001b[0m\u001b[0;34m,\u001b[0m \u001b[0;34m'yuv420p'\u001b[0m\u001b[0;34m]\u001b[0m\u001b[0;34m)\u001b[0m\u001b[0;34m\u001b[0m\u001b[0;34m\u001b[0m\u001b[0m\n\u001b[0m\u001b[1;32m     19\u001b[0m \u001b[0;34m\u001b[0m\u001b[0m\n\u001b[1;32m     20\u001b[0m \u001b[0mplt\u001b[0m\u001b[0;34m.\u001b[0m\u001b[0mshow\u001b[0m\u001b[0;34m(\u001b[0m\u001b[0;34m)\u001b[0m\u001b[0;34m\u001b[0m\u001b[0;34m\u001b[0m\u001b[0m\n",
      "\u001b[0;32m~/opt/anaconda3/lib/python3.8/site-packages/matplotlib/animation.py\u001b[0m in \u001b[0;36msave\u001b[0;34m(self, filename, writer, fps, dpi, codec, bitrate, extra_args, metadata, extra_anim, savefig_kwargs, progress_callback)\u001b[0m\n\u001b[1;32m   1101\u001b[0m                 \u001b[0;32mfor\u001b[0m \u001b[0manim\u001b[0m\u001b[0;34m,\u001b[0m \u001b[0md\u001b[0m \u001b[0;32min\u001b[0m \u001b[0mzip\u001b[0m\u001b[0;34m(\u001b[0m\u001b[0mall_anim\u001b[0m\u001b[0;34m,\u001b[0m \u001b[0mdata\u001b[0m\u001b[0;34m)\u001b[0m\u001b[0;34m:\u001b[0m\u001b[0;34m\u001b[0m\u001b[0;34m\u001b[0m\u001b[0m\n\u001b[1;32m   1102\u001b[0m                     \u001b[0;31m# TODO: See if turning off blit is really necessary\u001b[0m\u001b[0;34m\u001b[0m\u001b[0;34m\u001b[0m\u001b[0;34m\u001b[0m\u001b[0m\n\u001b[0;32m-> 1103\u001b[0;31m                     \u001b[0manim\u001b[0m\u001b[0;34m.\u001b[0m\u001b[0m_draw_next_frame\u001b[0m\u001b[0;34m(\u001b[0m\u001b[0md\u001b[0m\u001b[0;34m,\u001b[0m \u001b[0mblit\u001b[0m\u001b[0;34m=\u001b[0m\u001b[0;32mFalse\u001b[0m\u001b[0;34m)\u001b[0m\u001b[0;34m\u001b[0m\u001b[0;34m\u001b[0m\u001b[0m\n\u001b[0m\u001b[1;32m   1104\u001b[0m                     \u001b[0;32mif\u001b[0m \u001b[0mprogress_callback\u001b[0m \u001b[0;32mis\u001b[0m \u001b[0;32mnot\u001b[0m \u001b[0;32mNone\u001b[0m\u001b[0;34m:\u001b[0m\u001b[0;34m\u001b[0m\u001b[0;34m\u001b[0m\u001b[0m\n\u001b[1;32m   1105\u001b[0m                         \u001b[0mprogress_callback\u001b[0m\u001b[0;34m(\u001b[0m\u001b[0mframe_number\u001b[0m\u001b[0;34m,\u001b[0m \u001b[0mtotal_frames\u001b[0m\u001b[0;34m)\u001b[0m\u001b[0;34m\u001b[0m\u001b[0;34m\u001b[0m\u001b[0m\n",
      "\u001b[0;32m~/opt/anaconda3/lib/python3.8/site-packages/matplotlib/animation.py\u001b[0m in \u001b[0;36m_draw_next_frame\u001b[0;34m(self, framedata, blit)\u001b[0m\n\u001b[1;32m   1136\u001b[0m         \u001b[0;31m# post- draw, as well as the drawing of the frame itself.\u001b[0m\u001b[0;34m\u001b[0m\u001b[0;34m\u001b[0m\u001b[0;34m\u001b[0m\u001b[0m\n\u001b[1;32m   1137\u001b[0m         \u001b[0mself\u001b[0m\u001b[0;34m.\u001b[0m\u001b[0m_pre_draw\u001b[0m\u001b[0;34m(\u001b[0m\u001b[0mframedata\u001b[0m\u001b[0;34m,\u001b[0m \u001b[0mblit\u001b[0m\u001b[0;34m)\u001b[0m\u001b[0;34m\u001b[0m\u001b[0;34m\u001b[0m\u001b[0m\n\u001b[0;32m-> 1138\u001b[0;31m         \u001b[0mself\u001b[0m\u001b[0;34m.\u001b[0m\u001b[0m_draw_frame\u001b[0m\u001b[0;34m(\u001b[0m\u001b[0mframedata\u001b[0m\u001b[0;34m)\u001b[0m\u001b[0;34m\u001b[0m\u001b[0;34m\u001b[0m\u001b[0m\n\u001b[0m\u001b[1;32m   1139\u001b[0m         \u001b[0mself\u001b[0m\u001b[0;34m.\u001b[0m\u001b[0m_post_draw\u001b[0m\u001b[0;34m(\u001b[0m\u001b[0mframedata\u001b[0m\u001b[0;34m,\u001b[0m \u001b[0mblit\u001b[0m\u001b[0;34m)\u001b[0m\u001b[0;34m\u001b[0m\u001b[0;34m\u001b[0m\u001b[0m\n\u001b[1;32m   1140\u001b[0m \u001b[0;34m\u001b[0m\u001b[0m\n",
      "\u001b[0;32m~/opt/anaconda3/lib/python3.8/site-packages/matplotlib/animation.py\u001b[0m in \u001b[0;36m_draw_frame\u001b[0;34m(self, framedata)\u001b[0m\n\u001b[1;32m   1765\u001b[0m         \u001b[0;31m# Call the func with framedata and args. If blitting is desired,\u001b[0m\u001b[0;34m\u001b[0m\u001b[0;34m\u001b[0m\u001b[0;34m\u001b[0m\u001b[0m\n\u001b[1;32m   1766\u001b[0m         \u001b[0;31m# func needs to return a sequence of any artists that were modified.\u001b[0m\u001b[0;34m\u001b[0m\u001b[0;34m\u001b[0m\u001b[0;34m\u001b[0m\u001b[0m\n\u001b[0;32m-> 1767\u001b[0;31m         \u001b[0mself\u001b[0m\u001b[0;34m.\u001b[0m\u001b[0m_drawn_artists\u001b[0m \u001b[0;34m=\u001b[0m \u001b[0mself\u001b[0m\u001b[0;34m.\u001b[0m\u001b[0m_func\u001b[0m\u001b[0;34m(\u001b[0m\u001b[0mframedata\u001b[0m\u001b[0;34m,\u001b[0m \u001b[0;34m*\u001b[0m\u001b[0mself\u001b[0m\u001b[0;34m.\u001b[0m\u001b[0m_args\u001b[0m\u001b[0;34m)\u001b[0m\u001b[0;34m\u001b[0m\u001b[0;34m\u001b[0m\u001b[0m\n\u001b[0m\u001b[1;32m   1768\u001b[0m \u001b[0;34m\u001b[0m\u001b[0m\n\u001b[1;32m   1769\u001b[0m         \u001b[0;32mif\u001b[0m \u001b[0mself\u001b[0m\u001b[0;34m.\u001b[0m\u001b[0m_blit\u001b[0m\u001b[0;34m:\u001b[0m\u001b[0;34m\u001b[0m\u001b[0;34m\u001b[0m\u001b[0m\n",
      "\u001b[0;32m<ipython-input-196-dd6a1bb52703>\u001b[0m in \u001b[0;36mupdatefig\u001b[0;34m(*args)\u001b[0m\n\u001b[1;32m      7\u001b[0m \u001b[0;34m\u001b[0m\u001b[0m\n\u001b[1;32m      8\u001b[0m \u001b[0;32mdef\u001b[0m \u001b[0mupdatefig\u001b[0m\u001b[0;34m(\u001b[0m\u001b[0;34m*\u001b[0m\u001b[0margs\u001b[0m\u001b[0;34m)\u001b[0m\u001b[0;34m:\u001b[0m\u001b[0;34m\u001b[0m\u001b[0;34m\u001b[0m\u001b[0m\n\u001b[0;32m----> 9\u001b[0;31m     \u001b[0mim\u001b[0m\u001b[0;34m.\u001b[0m\u001b[0mset_array\u001b[0m\u001b[0;34m(\u001b[0m\u001b[0manimation_frames\u001b[0m\u001b[0;34m[\u001b[0m\u001b[0margs\u001b[0m\u001b[0;34m[\u001b[0m\u001b[0;36m0\u001b[0m\u001b[0;34m]\u001b[0m\u001b[0;34m]\u001b[0m\u001b[0;34m)\u001b[0m\u001b[0;34m\u001b[0m\u001b[0;34m\u001b[0m\u001b[0m\n\u001b[0m\u001b[1;32m     10\u001b[0m     \u001b[0;32mreturn\u001b[0m \u001b[0mim\u001b[0m\u001b[0;34m,\u001b[0m\u001b[0;34m\u001b[0m\u001b[0;34m\u001b[0m\u001b[0m\n\u001b[1;32m     11\u001b[0m \u001b[0;34m\u001b[0m\u001b[0m\n",
      "\u001b[0;31mIndexError\u001b[0m: list index out of range"
     ]
    },
    {
     "data": {
      "image/png": "[encoded data removed]",
      "text/plain": [
       "<Figure size 432x288 with 1 Axes>"
      ]
     },
     "metadata": {
      "needs_background": "light"
     },
     "output_type": "display_data"
    }
   ],
   "source": [
    "# execute this cell\n",
    "%matplotlib inline\n",
    "# %matplotlib notebook\n",
    "\n",
    "fig, ax = plt.subplots()\n",
    "im = ax.imshow(animation_frames[0], animated=True, cmap='ocean')\n",
    "\n",
    "def updatefig(*args):\n",
    "    im.set_array(animation_frames[args[0]])\n",
    "    return im,\n",
    "\n",
    "# ani = animation.FuncAnimation(fig, update, interval=50,\n",
    "#                               save_count=50)\n",
    "# plt.show()\n",
    "\n",
    "ani = FuncAnimation(fig, updatefig)\n",
    "\n",
    "ani.save('bob.mp4', extra_args=['-vcodec', 'libx264', '-pix_fmt', 'yuv420p'])\n",
    "\n",
    "plt.show()"
   ]
  },
  {
   "cell_type": "code",
   "execution_count": null,
   "id": "8c14bb35-72cb-4cda-ac69-caf4559c9f1e",
   "metadata": {},
   "outputs": [],
   "source": []
  }
 ],
 "metadata": {
  "kernelspec": {
   "display_name": "Python 3",
   "language": "python",
   "name": "python3"
  },
  "language_info": {
   "codemirror_mode": {
    "name": "ipython",
    "version": 3
   },
   "file_extension": ".py",
   "mimetype": "text/x-python",
   "name": "python",
   "nbconvert_exporter": "python",
   "pygments_lexer": "ipython3",
   "version": "3.8.8"
  }
 },
 "nbformat": 4,
 "nbformat_minor": 5
}
