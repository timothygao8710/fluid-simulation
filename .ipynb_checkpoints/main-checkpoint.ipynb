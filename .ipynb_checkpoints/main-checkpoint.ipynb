{
 "cells": [
  {
   "cell_type": "code",
   "execution_count": 16,
   "id": "c4cb9d70-06d6-4a27-9d41-943d5bf4d91d",
   "metadata": {},
   "outputs": [],
   "source": [
    "import numpy as np\n",
    "import math\n",
    "import matplotlib.pyplot as plt\n",
    "import matplotlib.animation as animation\n",
    "from numba import njit\n",
    "from matplotlib.animation import FuncAnimation"
   ]
  },
  {
   "cell_type": "code",
   "execution_count": 27,
   "id": "01b1bd29-4ffa-4c90-96fb-a25390cd9e88",
   "metadata": {},
   "outputs": [
    {
     "name": "stdout",
     "output_type": "stream",
     "text": [
      "The simulation will be 5.0 seconds long.\n"
     ]
    }
   ],
   "source": [
    "##### SIMULATION SETTINGS ######\n",
    "\n",
    "# N x N grid\n",
    "N = 32\n",
    "# Time between frames (in seconds)\n",
    "dt = 0.01\n",
    "# Number of discrete time steps\n",
    "N_time_steps = 500\n",
    "\n",
    "diff = 100000\n",
    "visc = 0.1\n",
    "\n",
    "# larger values results in marginally more accurate results for the Gauss-Seidel Solver in Diffuse and Advect stages\n",
    "lin_solve_iter = 20\n",
    "\n",
    "# non-zero and larger values -> less liquid \n",
    "constraint_constant = 0\n",
    "\n",
    "##### ANIMATION SETTINGS ######\n",
    "\n",
    "# loc = \"Demos/\"\n",
    "loc = \"\"\n",
    "name = \"asdfasdfa\"\n",
    "\n",
    "cmap = \"gnuplot\"\n",
    "\n",
    "#multiplier for how fast animation should be\n",
    "animation_speed = 0.5\n",
    "\n",
    "# vector sizes in final display are scaled by this constant, larger values -> smaller vector magnitudes\n",
    "vscale = 2\n",
    "# color of vectors in final display\n",
    "vcolor = 'b'\n",
    "\n",
    "print(\"Final video will be \" + str(dt * N_time_steps * animation_speed) + \" seconds long.\")"
   ]
  },
  {
   "cell_type": "code",
   "execution_count": 18,
   "id": "dca6799b-f2ff-4285-9009-0d2928ddd9f8",
   "metadata": {},
   "outputs": [
    {
     "data": {
      "text/plain": [
       "\"\\nTo calculate the curl-free field of a given vector field using Poisson equations, you can use the following steps:\\n\\nDefine your vector field as a function of the coordinates of the grid points. Let's call this vector field V(x,y,z), where x,y,z are the coordinates of a given grid point.\\n\\nCalculate the curl of the vector field using the curl operator: curl(V) = (dVz/dy - dVy/dz, dVx/dz - dVz/dx, dVy/dx - dVx/dy). This will give you a new vector field that represents the direction and magnitude of the curl of the original vector field at each grid point.\\n\\nUse the Poisson equation to find a scalar potential function φ(x,y,z) that satisfies the equation ∇²φ = -div(curl(V)), where ∇² is the Laplace operator and div is the divergence operator. This scalar potential function will represent the curl-free component of the original vector field.\\n\\nCalculate the gradient of the scalar potential function using the gradient operator: grad(φ) = (∂φ/∂x, ∂φ/∂y, ∂φ/∂z). This will give you a new vector field that represents the direction and magnitude of the curl-free component of the original vector field at each grid point.\\n\\nSubtract the curl-free vector field from the original vector field to get the remaining curl component: V_curl = V - grad(φ).\\n\\nFollowing these steps should allow you to calculate the curl-free component of your vector field using Poisson equations. Note that the calculation of the scalar potential function φ can be done using various numerical methods such as finite difference, finite element, or spectral methods, depending on the specifics of your problem.\\n\""
      ]
     },
     "execution_count": 18,
     "metadata": {},
     "output_type": "execute_result"
    }
   ],
   "source": [
    "# 0, N+1 are reserved for boundary cells\n",
    "sz = N + 2\n",
    "\n",
    "# full - reflect\n",
    "# lr - copy top and bottom, reflect others\n",
    "# ud - copy left and right, reflect others\n",
    "\n",
    "@njit(fastmath=True)\n",
    "def set_bnd(b, X):\n",
    "    for i in range(1, N+1):\n",
    "        X[0][i] = -X[1][i] if b == \"ud\" else X[1][i]\n",
    "        X[N+1][i] = -X[N][i] if b == \"ud\" else X[N][i]\n",
    "        \n",
    "        X[i][0] = -X[i][1] if b == \"lr\" else X[i][1]\n",
    "        X[i][N+1] = -X[i][N] if b == \"lr\" else X[i][N]\n",
    "    \n",
    "    #do corners - average of 2 around\n",
    "    X[0][0] = (X[1][0] + X[0][1]) * 0.5\n",
    "    X[0][N+1] = (X[1][N+1] + X[0][N]) * 0.5\n",
    "    X[N+1][0] = (X[N][0] + X[N+1][1]) * 0.5\n",
    "    X[N+1][N+1] = (X[N][N+1] + X[N+1][N]) * 0.5\n",
    "    \n",
    "@njit(fastmath=True)\n",
    "def addSource(i, j, X, x):\n",
    "    X[i][j] += dt * x\n",
    "    \n",
    "# Diffuse backwards in time: x0[IX(i,j)] = x[IX(i,j)] - a*(x[IX(i-1,j)]+x[IX(i+1,j)]+x[IX(i,j-1)]+x[IX(i,j+1)] -4*x[IX(i,j)]);\n",
    "# ==> ( x0[IX(i,j)] + a*(x[IX(i-1,j)]+x[IX(i+1,j)]+x[IX(i,j-1)]+x[IX(i,j+1)]) ) / ( 1 + 4*a )\n",
    "\n",
    "@njit(fastmath=True)\n",
    "def diffuse(X, X0, coef, b = \"full\", n_iter = lin_solve_iter):\n",
    "        # Gauss-Seidel: observation - very few non-zero values in matrix & strictly diagonally dominant\n",
    "        # start with incorrect values, solve by iteratively calculating assuming incorrect values are correct, then setting result as the new incorrect value\n",
    "        a = dt * coef * N * N\n",
    "        \n",
    "        for k in range(n_iter):\n",
    "            for i in range(1, N+1):\n",
    "                for j in range(1, N+1):\n",
    "                    X[i][j] = (X0[i][j] + a*(X[i-1][j] + X[i][j-1] + X[i][j+1] + X[i+1][j]))/(1+4*a)\n",
    "                    \n",
    "            # what to do when collision with boundary\n",
    "            set_bnd(b, X)\n",
    "\n",
    "            \n",
    "# linear interpolation, loc x in length 1, a to b\n",
    "@njit(fastmath=True)\n",
    "def lerp(a, b, x):\n",
    "    slope = b - a\n",
    "    return a + slope * x\n",
    "    \n",
    "# advect backwards (start from center and go back), using next velocity to linear interpolate, to find density contributions\n",
    "# Note: may need coefficient for multiplier ==> mult changes with dt?\n",
    "@njit(fastmath=True)\n",
    "def advect(X, X0, u, v, b = \"full\"):\n",
    "    for i in range(1, N+1):\n",
    "        for j in range(1, N+1):\n",
    "            y = i - dt * N * v[i][j]\n",
    "            x = j - dt * N * u[i][j]\n",
    "            x = max(x, 0.5)\n",
    "            x = min(x, N+0.5)\n",
    "            y = max(y, 0.5)\n",
    "            y = min(y, N+0.5)\n",
    "            \n",
    "            frac_y = y - math.floor(y)\n",
    "            frac_x = x - math.floor(x)\n",
    "\n",
    "            y = math.floor(y)\n",
    "            x = math.floor(x)\n",
    "            \n",
    "            #first interpolate looking through the x dimension\n",
    "            x0 = lerp(X0[y][x], X0[y][x+1], frac_x)\n",
    "            x1 = lerp(X0[y+1][x], X0[y+1][x+1], frac_x)\n",
    "            \n",
    "            #then interpolate looking through x dimension\n",
    "            res = lerp(x0, x1, frac_y)\n",
    "            X[i][j] += res\n",
    "\n",
    "    set_bnd(b, X)\n",
    "    \n",
    "# By helmholtz's theorem, every velocity field is the addition of a curl-free and divergence-free vector field. In this function, we compute the divergence-free field by computing curl-free and subtracting it from original\n",
    "@njit(fastmath=True)\n",
    "def project(u, v, p, div, n_iter=lin_solve_iter):\n",
    "    for i in range(1, N+1):\n",
    "        for j in range(1, N+1):\n",
    "            div[i][j] = -0.5 * (u[i][j+1] - u[i][j-1] + v[i+1][j] - v[i-1][j]) / N\n",
    "            p[i][j] = 0\n",
    "    \n",
    "    set_bnd(\"full\", div)\n",
    "    set_bnd(\"full\", p)\n",
    "    \n",
    "    for k in range(n_iter):\n",
    "        for i in range(1, N+1):\n",
    "            for j in range(1, N+1):\n",
    "                p[i][j] = (div[i][j] + p[i-1][j] + p[i+1][j] + p[i][j-1] + p[i][j+1]) / 4\n",
    "        set_bnd(\"full\", p)\n",
    "    \n",
    "    for i in range(1, N+1):\n",
    "        for j in range(1, N+1):\n",
    "            u[i][j] -= 0.5 * (p[i][j+1] - p[i][j-1]) * N\n",
    "            v[i][j] -= 0.5 * (p[i+1][j] - p[i-1][j]) * N\n",
    "            \n",
    "    set_bnd(\"lr\", u)\n",
    "    set_bnd(\"ud\", v)\n",
    "    \n",
    "'''\n",
    "To calculate the curl-free field of a given vector field using Poisson equations, you can use the following steps:\n",
    "\n",
    "Define your vector field as a function of the coordinates of the grid points. Let's call this vector field V(x,y,z), where x,y,z are the coordinates of a given grid point.\n",
    "\n",
    "Calculate the curl of the vector field using the curl operator: curl(V) = (dVz/dy - dVy/dz, dVx/dz - dVz/dx, dVy/dx - dVx/dy). This will give you a new vector field that represents the direction and magnitude of the curl of the original vector field at each grid point.\n",
    "\n",
    "Use the Poisson equation to find a scalar potential function φ(x,y,z) that satisfies the equation ∇²φ = -div(curl(V)), where ∇² is the Laplace operator and div is the divergence operator. This scalar potential function will represent the curl-free component of the original vector field.\n",
    "\n",
    "Calculate the gradient of the scalar potential function using the gradient operator: grad(φ) = (∂φ/∂x, ∂φ/∂y, ∂φ/∂z). This will give you a new vector field that represents the direction and magnitude of the curl-free component of the original vector field at each grid point.\n",
    "\n",
    "Subtract the curl-free vector field from the original vector field to get the remaining curl component: V_curl = V - grad(φ).\n",
    "\n",
    "Following these steps should allow you to calculate the curl-free component of your vector field using Poisson equations. Note that the calculation of the scalar potential function φ can be done using various numerical methods such as finite difference, finite element, or spectral methods, depending on the specifics of your problem.\n",
    "'''"
   ]
  },
  {
   "cell_type": "code",
   "execution_count": 19,
   "id": "047fe169-f121-4b3b-aa16-d924f259fb99",
   "metadata": {},
   "outputs": [],
   "source": [
    "import random\n",
    "\n",
    "theta = random.random() * math.pi * 2\n",
    "def rotate(speed = 2 * math.pi / 5):\n",
    "    global theta\n",
    "    theta += speed * dt\n",
    "    \n",
    "@njit(fastmath=True)\n",
    "def vel_step(u, v, u0, v0):    \n",
    "    diffuse (u, u0, visc, b=\"lr\")\n",
    "    diffuse (v, v0, visc, b=\"ud\")\n",
    "#     diffuse (u0, u, visc, b=\"lr\")\n",
    "#     diffuse (v0, v, visc, b=\"ud\")\n",
    "    \n",
    "    # project first because advect works better with a divergence-free v-field\n",
    "    #BELOW MAY BE WRONG -- Swapped 0 and cur?\n",
    "    project(u0, v0, u, v)\n",
    "        \n",
    "    advect (u, u0, u0, v0, b=\"lr\")\n",
    "    advect (v, v0, u0, v0, b=\"ud\")\n",
    "    \n",
    "    project(u, v, u0, v0)\n",
    "#     addSource (i_u, j_u, u, radius)\n",
    "    \n",
    "@njit(fastmath=True)\n",
    "def dens_step(dens, dens0, u, v):    \n",
    "    # below might be wrong?\n",
    "    diffuse (dens, dens0, diff)\n",
    "    advect (dens, dens0, u, v)\n",
    "\n",
    "@njit(fastmath=True)\n",
    "def constrain(dens, dx):\n",
    "    dx *= dt\n",
    "    for i in range(sz):\n",
    "        for j in range(sz):\n",
    "            if dens[i][j] - dx >= 0:\n",
    "                dens[i][j] -= dx"
   ]
  },
  {
   "cell_type": "code",
   "execution_count": 24,
   "id": "8cd30ec3-b8f4-464c-9522-7fb8d82559c0",
   "metadata": {},
   "outputs": [
    {
     "name": "stderr",
     "output_type": "stream",
     "text": [
      "100%|██████████| 500/500 [00:00<00:00, 1090.50it/s]"
     ]
    },
    {
     "name": "stdout",
     "output_type": "stream",
     "text": [
      "CPU times: user 454 ms, sys: 12.7 ms, total: 467 ms\n",
      "Wall time: 465 ms\n"
     ]
    },
    {
     "name": "stderr",
     "output_type": "stream",
     "text": [
      "\n"
     ]
    }
   ],
   "source": [
    "%%time\n",
    "\n",
    "from tqdm import tqdm\n",
    "\n",
    "animation_frames = []\n",
    "u_frames = []\n",
    "v_frames = []\n",
    "\n",
    "dens0 = np.zeros((sz, sz))\n",
    "# v is y direction velocity ~ j\n",
    "v0 = np.zeros((sz, sz))\n",
    "# u is x direction velocity ~ i\n",
    "u0 = np.zeros((sz, sz))\n",
    "\n",
    "for i in tqdm(range(N_time_steps), position=0, leave=True):\n",
    "    dens = np.zeros((sz, sz))\n",
    "    u = np.zeros((sz, sz))\n",
    "    v = np.zeros((sz, sz))\n",
    "\n",
    "    addSource (sz//2, sz//2, u0, 4 * N * N)\n",
    "#     addSource (N, sz//2, v0, -4 * N)\n",
    "    vel_step (u, v, u0, v0)\n",
    "    \n",
    "#     addSource (N, sz//2, dens0, 1)\n",
    "    addSource(sz//2, sz//2, dens0, 1)    \n",
    "    dens_step(dens, dens0, u, v)\n",
    "    \n",
    "    animation_frames.append(dens.copy())\n",
    "    u_frames.append(u.copy())\n",
    "    v_frames.append(v.copy())\n",
    "    \n",
    "    constrain(dens, 1)\n",
    "#     dens *= 0.92\n",
    "    \n",
    "    dens0 = dens\n",
    "    v0 = v\n",
    "    u0 = u"
   ]
  },
  {
   "cell_type": "code",
   "execution_count": 28,
   "id": "5d757899-54b5-48c2-a331-9c8e23c7d945",
   "metadata": {},
   "outputs": [
    {
     "ename": "KeyboardInterrupt",
     "evalue": "",
     "output_type": "error",
     "traceback": [
      "\u001b[0;31m---------------------------------------------------------------------------\u001b[0m",
      "\u001b[0;31mKeyboardInterrupt\u001b[0m                         Traceback (most recent call last)",
      "\u001b[0;32m<ipython-input-28-5801e052a6b6>\u001b[0m in \u001b[0;36m<module>\u001b[0;34m\u001b[0m\n\u001b[1;32m     17\u001b[0m     \u001b[0mfig\u001b[0m\u001b[0;34m.\u001b[0m\u001b[0mtight_layout\u001b[0m\u001b[0;34m(\u001b[0m\u001b[0;34m)\u001b[0m\u001b[0;34m\u001b[0m\u001b[0;34m\u001b[0m\u001b[0m\n\u001b[1;32m     18\u001b[0m \u001b[0;34m\u001b[0m\u001b[0m\n\u001b[0;32m---> 19\u001b[0;31m     \u001b[0max1\u001b[0m\u001b[0;34m.\u001b[0m\u001b[0mmatshow\u001b[0m\u001b[0;34m(\u001b[0m\u001b[0manimation_frames\u001b[0m\u001b[0;34m[\u001b[0m\u001b[0mi\u001b[0m\u001b[0;34m]\u001b[0m\u001b[0;34m,\u001b[0m \u001b[0mcmap\u001b[0m\u001b[0;34m=\u001b[0m\u001b[0mcmap\u001b[0m\u001b[0;34m,\u001b[0m \u001b[0maspect\u001b[0m\u001b[0;34m=\u001b[0m\u001b[0;34m\"auto\"\u001b[0m\u001b[0;34m)\u001b[0m\u001b[0;34m\u001b[0m\u001b[0;34m\u001b[0m\u001b[0m\n\u001b[0m\u001b[1;32m     20\u001b[0m     \u001b[0max2\u001b[0m\u001b[0;34m.\u001b[0m\u001b[0mquiver\u001b[0m\u001b[0;34m(\u001b[0m\u001b[0mu_frames\u001b[0m\u001b[0;34m[\u001b[0m\u001b[0mi\u001b[0m\u001b[0;34m]\u001b[0m\u001b[0;34m,\u001b[0m \u001b[0mv_frames\u001b[0m\u001b[0;34m[\u001b[0m\u001b[0mi\u001b[0m\u001b[0;34m]\u001b[0m\u001b[0;34m,\u001b[0m \u001b[0mcolor\u001b[0m\u001b[0;34m=\u001b[0m\u001b[0mvcolor\u001b[0m\u001b[0;34m,\u001b[0m \u001b[0mpivot\u001b[0m\u001b[0;34m=\u001b[0m\u001b[0;34m'mid'\u001b[0m\u001b[0;34m,\u001b[0m \u001b[0munits\u001b[0m\u001b[0;34m=\u001b[0m\u001b[0;34m'xy'\u001b[0m\u001b[0;34m,\u001b[0m \u001b[0mscale\u001b[0m\u001b[0;34m=\u001b[0m\u001b[0mvscale\u001b[0m\u001b[0;34m)\u001b[0m\u001b[0;34m\u001b[0m\u001b[0;34m\u001b[0m\u001b[0m\n\u001b[1;32m     21\u001b[0m \u001b[0;34m\u001b[0m\u001b[0m\n",
      "\u001b[0;32m~/opt/anaconda3/lib/python3.8/site-packages/matplotlib/axes/_axes.py\u001b[0m in \u001b[0;36mmatshow\u001b[0;34m(self, Z, **kwargs)\u001b[0m\n\u001b[1;32m   7980\u001b[0m         \u001b[0mself\u001b[0m\u001b[0;34m.\u001b[0m\u001b[0mxaxis\u001b[0m\u001b[0;34m.\u001b[0m\u001b[0mtick_top\u001b[0m\u001b[0;34m(\u001b[0m\u001b[0;34m)\u001b[0m\u001b[0;34m\u001b[0m\u001b[0;34m\u001b[0m\u001b[0m\n\u001b[1;32m   7981\u001b[0m         \u001b[0mself\u001b[0m\u001b[0;34m.\u001b[0m\u001b[0mxaxis\u001b[0m\u001b[0;34m.\u001b[0m\u001b[0mset_ticks_position\u001b[0m\u001b[0;34m(\u001b[0m\u001b[0;34m'both'\u001b[0m\u001b[0;34m)\u001b[0m\u001b[0;34m\u001b[0m\u001b[0;34m\u001b[0m\u001b[0m\n\u001b[0;32m-> 7982\u001b[0;31m         self.xaxis.set_major_locator(\n\u001b[0m\u001b[1;32m   7983\u001b[0m             mticker.MaxNLocator(nbins=9, steps=[1, 2, 5, 10], integer=True))\n\u001b[1;32m   7984\u001b[0m         self.yaxis.set_major_locator(\n",
      "\u001b[0;32m~/opt/anaconda3/lib/python3.8/site-packages/matplotlib/axis.py\u001b[0m in \u001b[0;36mset_major_locator\u001b[0;34m(self, locator)\u001b[0m\n\u001b[1;32m   1869\u001b[0m         \u001b[0;32mif\u001b[0m \u001b[0mself\u001b[0m\u001b[0;34m.\u001b[0m\u001b[0mmajor\u001b[0m\u001b[0;34m.\u001b[0m\u001b[0mformatter\u001b[0m\u001b[0;34m:\u001b[0m\u001b[0;34m\u001b[0m\u001b[0;34m\u001b[0m\u001b[0m\n\u001b[1;32m   1870\u001b[0m             \u001b[0mself\u001b[0m\u001b[0;34m.\u001b[0m\u001b[0mmajor\u001b[0m\u001b[0;34m.\u001b[0m\u001b[0mformatter\u001b[0m\u001b[0;34m.\u001b[0m\u001b[0m_set_locator\u001b[0m\u001b[0;34m(\u001b[0m\u001b[0mlocator\u001b[0m\u001b[0;34m)\u001b[0m\u001b[0;34m\u001b[0m\u001b[0;34m\u001b[0m\u001b[0m\n\u001b[0;32m-> 1871\u001b[0;31m         \u001b[0mlocator\u001b[0m\u001b[0;34m.\u001b[0m\u001b[0mset_axis\u001b[0m\u001b[0;34m(\u001b[0m\u001b[0mself\u001b[0m\u001b[0;34m)\u001b[0m\u001b[0;34m\u001b[0m\u001b[0;34m\u001b[0m\u001b[0m\n\u001b[0m\u001b[1;32m   1872\u001b[0m         \u001b[0mself\u001b[0m\u001b[0;34m.\u001b[0m\u001b[0mstale\u001b[0m \u001b[0;34m=\u001b[0m \u001b[0;32mTrue\u001b[0m\u001b[0;34m\u001b[0m\u001b[0;34m\u001b[0m\u001b[0m\n\u001b[1;32m   1873\u001b[0m \u001b[0;34m\u001b[0m\u001b[0m\n",
      "\u001b[0;32m~/opt/anaconda3/lib/python3.8/site-packages/matplotlib/ticker.py\u001b[0m in \u001b[0;36mset_axis\u001b[0;34m(self, axis)\u001b[0m\n\u001b[1;32m    191\u001b[0m \u001b[0;34m\u001b[0m\u001b[0m\n\u001b[1;32m    192\u001b[0m     \u001b[0;32mdef\u001b[0m \u001b[0mset_axis\u001b[0m\u001b[0;34m(\u001b[0m\u001b[0mself\u001b[0m\u001b[0;34m,\u001b[0m \u001b[0maxis\u001b[0m\u001b[0;34m)\u001b[0m\u001b[0;34m:\u001b[0m\u001b[0;34m\u001b[0m\u001b[0;34m\u001b[0m\u001b[0m\n\u001b[0;32m--> 193\u001b[0;31m         \u001b[0mself\u001b[0m\u001b[0;34m.\u001b[0m\u001b[0maxis\u001b[0m \u001b[0;34m=\u001b[0m \u001b[0maxis\u001b[0m\u001b[0;34m\u001b[0m\u001b[0;34m\u001b[0m\u001b[0m\n\u001b[0m\u001b[1;32m    194\u001b[0m \u001b[0;34m\u001b[0m\u001b[0m\n\u001b[1;32m    195\u001b[0m     \u001b[0;32mdef\u001b[0m \u001b[0mcreate_dummy_axis\u001b[0m\u001b[0;34m(\u001b[0m\u001b[0mself\u001b[0m\u001b[0;34m,\u001b[0m \u001b[0;34m**\u001b[0m\u001b[0mkwargs\u001b[0m\u001b[0;34m)\u001b[0m\u001b[0;34m:\u001b[0m\u001b[0;34m\u001b[0m\u001b[0;34m\u001b[0m\u001b[0m\n",
      "\u001b[0;31mKeyboardInterrupt\u001b[0m: "
     ]
    },
    {
     "data": {
      "image/png": "[encoded data removed]",
      "text/plain": [
       "<Figure size 432x288 with 2 Axes>"
      ]
     },
     "metadata": {
      "needs_background": "light"
     },
     "output_type": "display_data"
    }
   ],
   "source": [
    "# %matplotlib inline\n",
    "import time\n",
    "from IPython.display import clear_output\n",
    "import matplotlib\n",
    "\n",
    "for i in range(N_time_steps):\n",
    "    plt.close()\n",
    "    clear_output(wait=True)\n",
    "    \n",
    "    fig, (ax1, ax2) = plt.subplots(1, 2)\n",
    "    \n",
    "    ax1.get_xaxis().set_visible(False)\n",
    "    ax2.get_xaxis().set_visible(False)\n",
    "    ax1.get_yaxis().set_visible(False)\n",
    "    ax2.get_yaxis().set_visible(False)\n",
    "    ax2.invert_yaxis()\n",
    "    fig.tight_layout()\n",
    "    \n",
    "    ax1.matshow(animation_frames[i], cmap=cmap, aspect=\"auto\")\n",
    "    ax2.quiver(u_frames[i], v_frames[i], color=vcolor, pivot='mid', units='xy', scale=vscale)\n",
    "    \n",
    "    plt.show()\n",
    "#     time.sleep(dt)\n",
    "\n",
    "# 'Accent', 'Accent_r', 'Blues', 'Blues_r', 'BrBG', 'BrBG_r', 'BuGn', 'BuGn_r', 'BuPu', 'BuPu_r', 'CMRmap', 'CMRmap_r', 'Dark2', 'Dark2_r', 'GnBu', 'GnBu_r', 'Greens', 'Greens_r', 'Greys', 'Greys_r', 'OrRd', 'OrRd_r', 'Oranges', 'Oranges_r', 'PRGn', 'PRGn_r', 'Paired', 'Paired_r', 'Pastel1', 'Pastel1_r', 'Pastel2', 'Pastel2_r', 'PiYG', 'PiYG_r', 'PuBu', 'PuBuGn', 'PuBuGn_r', 'PuBu_r', 'PuOr', 'PuOr_r', 'PuRd', 'PuRd_r', 'Purples', 'Purples_r', 'RdBu', 'RdBu_r', 'RdGy', 'RdGy_r', 'RdPu', 'RdPu_r', 'RdYlBu', 'RdYlBu_r', 'RdYlGn', 'RdYlGn_r', 'Reds', 'Reds_r', 'Set1', 'Set1_r', 'Set2', 'Set2_r', 'Set3', 'Set3_r', 'Spectral', 'Spectral_r', 'Wistia', 'Wistia_r', 'YlGn', 'YlGnBu', 'YlGnBu_r', 'YlGn_r', 'YlOrBr', 'YlOrBr_r', 'YlOrRd', 'YlOrRd_r', 'afmhot', 'afmhot_r', 'autumn', 'autumn_r', 'binary', 'binary_r', 'bone', 'bone_r', 'brg', 'brg_r', 'bwr', 'bwr_r', 'cividis', 'cividis_r', 'cool', 'cool_r', 'coolwarm', 'coolwarm_r', 'copper', 'copper_r', 'cubehelix', 'cubehelix_r', 'flag', 'flag_r', 'gist_earth', 'gist_earth_r', 'gist_gray', 'gist_gray_r', 'gist_heat', 'gist_heat_r', 'gist_ncar', 'gist_ncar_r', 'gist_rainbow', 'gist_rainbow_r', 'gist_stern', 'gist_stern_r', 'gist_yarg', 'gist_yarg_r', 'gnuplot', 'gnuplot2', 'gnuplot2_r', 'gnuplot_r', 'gray', 'gray_r', 'hot', 'hot_r', 'hsv', 'hsv_r', 'inferno', 'inferno_r', 'jet', 'jet_r', 'magma', 'magma_r', 'nipy_spectral', 'nipy_spectral_r', 'ocean', 'ocean_r', 'pink', 'pink_r', 'plasma', 'plasma_r', 'prism', 'prism_r', 'rainbow', 'rainbow_r', 'seismic', 'seismic_r', 'spring', 'spring_r', 'summer', 'summer_r', 'tab10', 'tab10_r', 'tab20', 'tab20_r', 'tab20b', 'tab20b_r', 'tab20c', 'tab20c_r', 'terrain', 'terrain_r', 'turbo', 'turbo_r', 'twilight', 'twilight_r', 'twilight_shifted', 'twilight_shifted_r', 'viridis', 'viridis_r', 'winter', 'winter_r'"
   ]
  },
  {
   "cell_type": "code",
   "execution_count": 32,
   "id": "4cc811bf-4d50-4890-8ae0-1b55946883ec",
   "metadata": {},
   "outputs": [
    {
     "name": "stderr",
     "output_type": "stream",
     "text": [
      "100%|█████████▉| 499/500 [07:28<00:01,  1.73s/it]"
     ]
    },
    {
     "data": {
      "image/png": "[encoded data removed]",
      "text/plain": [
       "<Figure size 432x288 with 2 Axes>"
      ]
     },
     "metadata": {
      "needs_background": "light"
     },
     "output_type": "display_data"
    }
   ],
   "source": [
    "#COMMENT THE BELOW LINE OUT IN FINAL OUTPUT\n",
    "# matplotlib.use(\"Agg\")\n",
    "\n",
    "name += '-' + str(N) + \"x\" + str(N) + \"-\" + str(diff) + \"-\" + str(visc)\n",
    "\n",
    "#Make plot\n",
    "fig, (ax1, ax2) = plt.subplots(1, 2)\n",
    "\n",
    "# Change plot settings\n",
    "ax1.get_xaxis().set_visible(False)\n",
    "ax2.get_xaxis().set_visible(False)\n",
    "ax1.get_yaxis().set_visible(False)\n",
    "ax2.get_yaxis().set_visible(False)\n",
    "ax2.invert_yaxis()\n",
    "fig.tight_layout()\n",
    "\n",
    "# Plot the first frame \n",
    "img.autoscale()\n",
    "fluid = ax1.imshow(animation_frames[0], animated=True, cmap=cmap, aspect=\"auto\")\n",
    "vfield = ax2.quiver(u_frames[0], v_frames[0], animated=True, color=vcolor, pivot='mid', units='xy', scale=vscale)\n",
    "\n",
    "def updatefig(idx, fluid, vfield):\n",
    "#         fluid.set_data(animation_frames[idx])\n",
    "        fluid = ax1.imshow(animation_frames[idx], animated=True, cmap=cmap, aspect=\"auto\")\n",
    "        vfield.set_UVC(u_frames[idx], v_frames[idx])\n",
    "                \n",
    "        return fluid, vfield\n",
    "\n",
    "ani = FuncAnimation(fig, updatefig, frames=tqdm(range(len(animation_frames)), position=0, leave=True), fargs=(fluid, vfield), blit=True, interval=dt*1000/animation_speed)\n",
    "\n",
    "ani.save(loc + name + \".mp4\", extra_args=['-vcodec', 'libx264', '-pix_fmt', 'yuv420p'])"
   ]
  },
  {
   "cell_type": "code",
   "execution_count": null,
   "id": "8c14bb35-72cb-4cda-ac69-caf4559c9f1e",
   "metadata": {},
   "outputs": [],
   "source": [
    "```\n",
    "= Add a cell for user interactivity in jupyter\n",
    "= see change if each variable is changed incrementally (e.g, from no velocity to high velocity)\n",
    "TO-DO Demos:\n",
    "    - Gravity\n",
    "    - Changing Gravities\n",
    "    - Multiple shooting at each other\n",
    "    - wind tunnel\n",
    "    - Torus\n",
    "    - Zero at all boundaries\n",
    "    - At some point stop releasing fluid\n",
    "    - rotating fluid shooting\n",
    "    - Circle around the frame (velocity field)\n",
    "```"
   ]
  }
 ],
 "metadata": {
  "kernelspec": {
   "display_name": "Python 3",
   "language": "python",
   "name": "python3"
  },
  "language_info": {
   "codemirror_mode": {
    "name": "ipython",
    "version": 3
   },
   "file_extension": ".py",
   "mimetype": "text/x-python",
   "name": "python",
   "nbconvert_exporter": "python",
   "pygments_lexer": "ipython3",
   "version": "3.8.8"
  }
 },
 "nbformat": 4,
 "nbformat_minor": 5
}
